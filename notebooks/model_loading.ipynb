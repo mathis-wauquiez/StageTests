{
 "cells": [
  {
   "cell_type": "code",
   "execution_count": 1,
   "metadata": {},
   "outputs": [],
   "source": [
    "import sys\n",
    "import os\n",
    "from pathlib import Path\n",
    "\n",
    "import pandas as pd\n",
    "import numpy as np\n",
    "import matplotlib.pyplot as plt\n",
    "\n",
    "sys.path.append(os.path.abspath(\"../src\"))\n",
    "# We change the working directory to the root of the project\n",
    "# Run this only once\n",
    "root_path = Path.cwd().parent\n",
    "os.chdir(root_path)\n",
    "sys.path.append(root_path / \"src\")"
   ]
  },
  {
   "cell_type": "markdown",
   "metadata": {},
   "source": [
    "# Models"
   ]
  },
  {
   "cell_type": "markdown",
   "metadata": {},
   "source": [
    "This python notebook explains how to load the different models and to test them on batches.\n",
    "\n",
    "Let's begin by instanciating the dataloader:"
   ]
  },
  {
   "cell_type": "code",
   "execution_count": 2,
   "metadata": {},
   "outputs": [],
   "source": [
    "from echocem.data.data import CemDataset\n",
    "from echocem.data.utils import get_raw_annotations_and_image\n",
    "\n",
    "data_save_path = root_path / \"data/processed/X_train/\"\n",
    "images_path = root_path / \"data/raw/X_train/images/\""
   ]
  },
  {
   "cell_type": "code",
   "execution_count": 3,
   "metadata": {},
   "outputs": [],
   "source": [
    "from hydra.utils import instantiate\n",
    "from omegaconf import OmegaConf\n",
    "\n",
    "# load the configuration file\n",
    "cfg = OmegaConf.load(\"src/echocem/conf/data.yaml\")\n",
    "# instantiate the dataset\n",
    "dataloader = instantiate(cfg.train_dataloader)\n",
    "\n",
    "batch = next(iter(dataloader))"
   ]
  },
  {
   "cell_type": "code",
   "execution_count": 4,
   "metadata": {},
   "outputs": [],
   "source": [
    "# instantiate the model\n",
    "cfg = OmegaConf.load(\"src/echocem/conf/model.yaml\")\n",
    "model = instantiate(cfg.model)"
   ]
  },
  {
   "cell_type": "code",
   "execution_count": 5,
   "metadata": {},
   "outputs": [],
   "source": [
    "preds = model(batch[0][:30].to(model.device))\n",
    "preds.shape\n",
    "\n",
    "# apply a softmax to the predictions\n",
    "import torch\n",
    "preds = torch.softmax(preds, dim=1)"
   ]
  },
  {
   "cell_type": "code",
   "execution_count": 6,
   "metadata": {},
   "outputs": [
    {
     "data": {
      "text/plain": [
       "(torch.Size([30, 3, 272, 272]), torch.Size([256, 1, 272, 272]))"
      ]
     },
     "execution_count": 6,
     "metadata": {},
     "output_type": "execute_result"
    }
   ],
   "source": [
    "preds.shape, batch[0].shape"
   ]
  }
 ],
 "metadata": {
  "kernelspec": {
   "display_name": "ProjetTunnel",
   "language": "python",
   "name": "python3"
  },
  "language_info": {
   "codemirror_mode": {
    "name": "ipython",
    "version": 3
   },
   "file_extension": ".py",
   "mimetype": "text/x-python",
   "name": "python",
   "nbconvert_exporter": "python",
   "pygments_lexer": "ipython3",
   "version": "3.8.19"
  }
 },
 "nbformat": 4,
 "nbformat_minor": 2
}
