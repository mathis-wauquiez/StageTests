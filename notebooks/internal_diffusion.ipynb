{
 "cells": [
  {
   "cell_type": "markdown",
   "id": "46889605",
   "metadata": {},
   "source": [
    "# Internal diffusion\n",
    "\n",
    "This notebook serves as a replica of Nicolas' paper, but using Flow Matching instead of diffusion"
   ]
  },
  {
   "cell_type": "code",
   "execution_count": null,
   "id": "bde9a996",
   "metadata": {},
   "outputs": [],
   "source": []
  }
 ],
 "metadata": {
  "kernelspec": {
   "display_name": "base",
   "language": "python",
   "name": "python3"
  },
  "language_info": {
   "name": "python",
   "version": "3.12.7"
  }
 },
 "nbformat": 4,
 "nbformat_minor": 5
}
